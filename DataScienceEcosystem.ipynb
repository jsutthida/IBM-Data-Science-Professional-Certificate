{
 "cells": [
  {
   "cell_type": "markdown",
   "id": "7bdf3d5e",
   "metadata": {},
   "source": [
    "<h1> Data Science Tools and Ecosystem</h1>"
   ]
  },
  {
   "cell_type": "markdown",
   "id": "4fdbb622",
   "metadata": {},
   "source": [
    "In this notebook, Data Science Tools and Ecosystem are summarized."
   ]
  },
  {
   "cell_type": "markdown",
   "id": "c4982624",
   "metadata": {},
   "source": [
    "**Objectives:**\n",
    "- List popular languages for Data Science\n",
    "- List commonly used libraries for Data Science\n",
    "- List Data Science tools\n",
    "- Examples of evaluating arithmetic expressions in Python"
   ]
  },
  {
   "cell_type": "markdown",
   "id": "ac1ae009",
   "metadata": {},
   "source": [
    "Some of the popular languages that Data Scientists use are:\n",
    "  1. Python\n",
    "  2. R\n",
    "  3. SQL"
   ]
  },
  {
   "cell_type": "markdown",
   "id": "e90732e1",
   "metadata": {},
   "source": [
    "Some of the commonly used libraries used by Data Scientists include:\n",
    "  1. TensorFlow\n",
    "  2. Pandas\n",
    "  3. Numpy\n",
    "  4. Matplotlib\n",
    "  5. SciKit-Learn"
   ]
  },
  {
   "cell_type": "markdown",
   "id": "675ddb59",
   "metadata": {},
   "source": [
    "|Data Science Tools|\n",
    "|------------------|\n",
    "|Jupyter Notebook|\n",
    "|Apache Spark|\n",
    "|IBM SPSS|"
   ]
  },
  {
   "cell_type": "markdown",
   "id": "dd635d4b",
   "metadata": {},
   "source": [
    "<h3>Below are a few examples of evaluating arithmetic expressions in Python</h3>"
   ]
  },
  {
   "cell_type": "code",
   "execution_count": 12,
   "id": "09291cca",
   "metadata": {},
   "outputs": [
    {
     "name": "stdout",
     "output_type": "stream",
     "text": [
      "17\n",
      "True\n"
     ]
    }
   ],
   "source": [
    "# This a simple arithmetic expression to mutiply then add integers\n",
    "a = (3*4)+5\n",
    "print(a)\n",
    "print(a==17)"
   ]
  },
  {
   "cell_type": "code",
   "execution_count": 9,
   "id": "6d3c15b1",
   "metadata": {},
   "outputs": [
    {
     "name": "stdout",
     "output_type": "stream",
     "text": [
      "3.3333333333333335\n"
     ]
    }
   ],
   "source": [
    "# This will convert 200 minutes to hours by diving by 60\n",
    "b = 200/60\n",
    "print(b)"
   ]
  },
  {
   "cell_type": "markdown",
   "id": "610986ab",
   "metadata": {},
   "source": [
    "<h2>Author</h2>\n",
    "\n",
    "Sutthida Wongchai"
   ]
  }
 ],
 "metadata": {
  "kernelspec": {
   "display_name": "Python 3 (ipykernel)",
   "language": "python",
   "name": "python3"
  },
  "language_info": {
   "codemirror_mode": {
    "name": "ipython",
    "version": 3
   },
   "file_extension": ".py",
   "mimetype": "text/x-python",
   "name": "python",
   "nbconvert_exporter": "python",
   "pygments_lexer": "ipython3",
   "version": "3.11.5"
  }
 },
 "nbformat": 4,
 "nbformat_minor": 5
}
